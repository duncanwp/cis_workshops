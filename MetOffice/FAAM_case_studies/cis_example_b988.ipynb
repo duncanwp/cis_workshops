{
 "cells": [
  {
   "cell_type": "markdown",
   "metadata": {},
   "source": [
    "## b988 - 20/10/2016 - VANAHEIM - Trapped Lee Wave"
   ]
  },
  {
   "cell_type": "markdown",
   "metadata": {},
   "source": [
    "For b988 the FAAM aircraft was flying downwind of the Snaefellsnes Peninsula on the West Coast of Iceland. The aircraft data are compared with WRF (Weather Research and Forecasting Model) results. The variable that is used for comparison is the vertical wind speed. We compare the data for a set of runs when the aircraft was flying at a pressure level of about ~750mb."
   ]
  },
  {
   "cell_type": "code",
   "execution_count": null,
   "metadata": {
    "collapsed": true
   },
   "outputs": [],
   "source": [
    "%matplotlib inline\n",
    "\n",
    "import os\n",
    "\n",
    "ROOT_DATA_PATH = '/Users/watson-parris/Desktop/cis_workshop/data/b988'\n",
    "\n",
    "os.chdir(ROOT_DATA_PATH)"
   ]
  },
  {
   "cell_type": "markdown",
   "metadata": {},
   "source": [
    "### WRF data"
   ]
  },
  {
   "cell_type": "markdown",
   "metadata": {},
   "source": [
    "The WRF vertical wind speed variable has already been extracted and converted into netCDF."
   ]
  },
  {
   "cell_type": "code",
   "execution_count": null,
   "metadata": {},
   "outputs": [],
   "source": [
    "import cis \n",
    "\n",
    "# Read in the wrf model data set\n",
    "wrf = cis.read_data('b988_wrf_w_750mb.nc', 'w')\n",
    "# Fix the coordinate name\n",
    "wrf.coord('times').rename('time')\n",
    "print(wrf)"
   ]
  },
  {
   "cell_type": "code",
   "execution_count": null,
   "metadata": {},
   "outputs": [],
   "source": [
    "# Average over all timestamps. The waves were pretty stationary for the whole flight\n",
    "wrf_avg = wrf.collapsed('time', how='mean')\n",
    "ax = wrf_avg.plot()\n",
    "# Zoom into the area of interest\n",
    "ax.set_xlim((-25, -22))\n",
    "ax.set_ylim((63.5, 68.0))"
   ]
  },
  {
   "cell_type": "markdown",
   "metadata": {},
   "source": [
    "### Preparing the aircraft data"
   ]
  },
  {
   "cell_type": "markdown",
   "metadata": {},
   "source": [
    "For this example we like to work with the high resolution data and not just the 1Hz data. To do that we need to get rid off the sps dimensions of the FAAM core netCDF and flatten it, so that the only remaining dimension is Time."
   ]
  },
  {
   "cell_type": "code",
   "execution_count": null,
   "metadata": {},
   "outputs": [],
   "source": [
    "import cis\n",
    "import pandas as pd\n",
    "import numpy as np\n",
    "from cis.utils import demote_warnings\n",
    "\n",
    "OVERWRITE_NETCDF = False\n",
    "\n",
    "# List of variables that we gonna to extract from the high\n",
    "# resolution FAAM core netCDF. All those variables are available at 32Hz\n",
    "var_names = ['LON_GIN',\n",
    "             'LAT_GIN',\n",
    "             'ALT_GIN',\n",
    "             'W_C',\n",
    "             'PS_RVSM']\n",
    "\n",
    "# Open the FAAM core netCDF. CIS will read this as gridded data using Iris by default\n",
    "# Iris is really slow at reading this, so we might be better off just using NetCDF directly?\n",
    "with demote_warnings():\n",
    "    core = cis.read_data_list('core_faam_20161020_v004_r0_b988.nc', var_names)"
   ]
  },
  {
   "cell_type": "code",
   "execution_count": null,
   "metadata": {},
   "outputs": [],
   "source": [
    "print(core)"
   ]
  },
  {
   "cell_type": "markdown",
   "metadata": {},
   "source": [
    "Now use Pandas to create the time points"
   ]
  },
  {
   "cell_type": "code",
   "execution_count": null,
   "metadata": {},
   "outputs": [],
   "source": [
    "from cf_units import Unit\n",
    "from cis.time_util import cis_standard_time_unit\n",
    "\n",
    "# This are the units for the time coordinate\n",
    "time_units = Unit(\"seconds since 2016-10-20 00:00:00 +0000\")\n",
    "\n",
    "# Now the panda magic begins.\n",
    "# Creating a high resolution time array using panda magic\n",
    "# The time step is 1./32. seconds, which equals 31250 microseconds.\n",
    "t2 = pd.date_range(start=cis_standard_time_unit.num2date(core.coord('time').points.min()),\n",
    "                   periods=core.coord('time').shape[0]*32,\n",
    "                   freq='31250U').to_pydatetime()\n",
    "\n",
    "# Convert it back to seconds after midnight using the date2num method from netCDF4\n",
    "secs = time_units.date2num(t2)"
   ]
  },
  {
   "cell_type": "markdown",
   "metadata": {},
   "source": [
    "And convert the data into CIS UngriddedData objects"
   ]
  },
  {
   "cell_type": "code",
   "execution_count": null,
   "metadata": {},
   "outputs": [],
   "source": [
    "import cis\n",
    "from cis.data_io.ungridded_data import UngriddedData, UngriddedDataList, Metadata\n",
    "from cis.data_io.Coord import Coord\n",
    "\n",
    "OVERWRITE_NETCDF = True\n",
    "\n",
    "lon = Coord(core[0].data.ravel(), Metadata('longitude', units='degree_east'), 'x')\n",
    "lat = Coord(core[1].data.ravel(), Metadata('latitude', units='degree_north'), 'y')\n",
    "alt = Coord(core[2].data.ravel(), Metadata('altitude', units='m'), 'z')\n",
    "pres = Coord(core[4].data.ravel(), Metadata('air_pressure', units='hPa'), 'p')\n",
    "time = Coord(secs, Metadata('time', units=time_units))\n",
    "\n",
    "w_c = UngriddedData(core[3].data.ravel(), \n",
    "                        Metadata('w_c', units='m s-1'), \n",
    "                        [lat, lon, pres, alt, time])\n",
    "\n",
    "# flag all data '0' ALT_GIN data as invalid\n",
    "w_c.data.mask |= alt.data == 0.0"
   ]
  },
  {
   "cell_type": "markdown",
   "metadata": {},
   "source": [
    "### Analysis"
   ]
  },
  {
   "cell_type": "markdown",
   "metadata": {},
   "source": [
    "Now that we made it that far we can load the newly created NetCDF with CIS."
   ]
  },
  {
   "cell_type": "code",
   "execution_count": null,
   "metadata": {},
   "outputs": [],
   "source": [
    "w_c.plot()"
   ]
  },
  {
   "cell_type": "code",
   "execution_count": null,
   "metadata": {},
   "outputs": [],
   "source": [
    "# There are some errorenous data in the data set, which screws up the data range\n",
    "w_c.data.mask[np.abs(w_c.data) > 10] = True"
   ]
  },
  {
   "cell_type": "code",
   "execution_count": null,
   "metadata": {},
   "outputs": [],
   "source": [
    "w_c.plot()"
   ]
  },
  {
   "cell_type": "code",
   "execution_count": null,
   "metadata": {},
   "outputs": [],
   "source": [
    "# Subsetting the data for a specific height range (2280 to 2360 m),\n",
    "# which equals roughly the 750mb level from the WRF model\n",
    "w_c_sub = w_c.subset(z=[2280, 2360])\n",
    "w_c_sub.plot()"
   ]
  },
  {
   "cell_type": "code",
   "execution_count": null,
   "metadata": {},
   "outputs": [],
   "source": [
    "# And plot it as a time series to see the wave structure\n",
    "# in the vertical wind component\n",
    "ax = w_c_sub.plot(xaxis='time')\n",
    "ax.grid(True)"
   ]
  },
  {
   "cell_type": "code",
   "execution_count": null,
   "metadata": {},
   "outputs": [],
   "source": [
    "# collocating WRF and aircraft measurements\n",
    "wrf_col = wrf.collocated_onto(w_c_sub)"
   ]
  },
  {
   "cell_type": "code",
   "execution_count": null,
   "metadata": {},
   "outputs": [],
   "source": [
    "wrf_col.append(w_c_sub)"
   ]
  },
  {
   "cell_type": "code",
   "execution_count": null,
   "metadata": {},
   "outputs": [],
   "source": [
    "from datetime import datetime\n",
    "ax = wrf_col.plot(xaxis='time')\n",
    "ax.grid(True)\n",
    "\n",
    "# I have no idea why this has to be the 21st!\n",
    "ax.set_xlim([datetime(2016,10,21,9,25), datetime(2016,10,21,9,40)])"
   ]
  },
  {
   "cell_type": "code",
   "execution_count": null,
   "metadata": {
    "collapsed": true
   },
   "outputs": [],
   "source": []
  }
 ],
 "metadata": {
  "kernelspec": {
   "display_name": "IPython (Python 2)",
   "language": "python",
   "name": "python2"
  },
  "language_info": {
   "codemirror_mode": {
    "name": "ipython",
    "version": 2
   },
   "file_extension": ".py",
   "mimetype": "text/x-python",
   "name": "python",
   "nbconvert_exporter": "python",
   "pygments_lexer": "ipython2",
   "version": "2.7.12"
  }
 },
 "nbformat": 4,
 "nbformat_minor": 2
}
