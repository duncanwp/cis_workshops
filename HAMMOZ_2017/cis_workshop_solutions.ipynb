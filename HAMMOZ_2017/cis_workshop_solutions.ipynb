{
 "cells": [
  {
   "cell_type": "markdown",
   "metadata": {
    "slideshow": {
     "slide_type": "slide"
    }
   },
   "source": [
    "### Exercise 1\n",
    "\n",
    "1\\. Read the variables in the Aeronet file ``920801_150530_Brussels.lev20`` and load the AOD at all wavelengths."
   ]
  },
  {
   "cell_type": "code",
   "execution_count": null,
   "metadata": {
    "collapsed": false
   },
   "outputs": [],
   "source": [
    "all_aot = cis.read_data_list(data_path+\"Aeronet/920801_150530_Brussels.lev20\",\n",
    "                             \"AOT_*\")"
   ]
  },
  {
   "cell_type": "markdown",
   "metadata": {
    "slideshow": {
     "slide_type": "fragment"
    }
   },
   "source": [
    "2\\. Loop through each of the datasets (e.g. ``for d in datasets``) and print the mean of each."
   ]
  },
  {
   "cell_type": "code",
   "execution_count": null,
   "metadata": {
    "collapsed": true
   },
   "outputs": [],
   "source": [
    "for d in all_aot:\n",
    "    print(d.name(), d.data.mean())"
   ]
  },
  {
   "cell_type": "markdown",
   "metadata": {
    "slideshow": {
     "slide_type": "fragment"
    }
   },
   "source": [
    "3\\. Print the names of all coordinates on one of the datasets. (Hint: Remember the `coords` method without any keywords will give us all of the coordinates)"
   ]
  },
  {
   "cell_type": "code",
   "execution_count": null,
   "metadata": {
    "collapsed": true
   },
   "outputs": [],
   "source": [
    "for c in all_aot.coords():\n",
    "    print(c.name())"
   ]
  },
  {
   "cell_type": "markdown",
   "metadata": {
    "slideshow": {
     "slide_type": "slide"
    }
   },
   "source": [
    "## Exercises"
   ]
  },
  {
   "cell_type": "markdown",
   "metadata": {},
   "source": [
    "**1.** Read in ``AOD550`` and ``AOD670`` from the 5 days of satellite data "
   ]
  },
  {
   "cell_type": "code",
   "execution_count": null,
   "metadata": {
    "collapsed": true
   },
   "outputs": [],
   "source": [
    "aerosol_cci_both = cis.read_data_list(data_path + \"AerosolCCI\",\n",
    "                                     [\"AOD550\", \"AOD670\"])"
   ]
  },
  {
   "cell_type": "markdown",
   "metadata": {
    "slideshow": {
     "slide_type": "fragment"
    }
   },
   "source": [
    "**2.** Subset this data down to the region covered by the aircraft data"
   ]
  },
  {
   "cell_type": "code",
   "execution_count": null,
   "metadata": {
    "collapsed": false
   },
   "outputs": [],
   "source": [
    "aerosol_cci_sub = aerosol_cci_both.subset(x=[-165.1241, -139.23159999999999],\n",
    "                                         y=[63.303199999999997, 75.128600000000006])"
   ]
  },
  {
   "cell_type": "markdown",
   "metadata": {},
   "source": [
    "cis subset AOD550,AOD670:AerosolCCI x=-165...,y=63... -o aerosol_subset.nc"
   ]
  },
  {
   "cell_type": "markdown",
   "metadata": {
    "slideshow": {
     "slide_type": "fragment"
    }
   },
   "source": [
    "**3.** Try plotting ``AOD550`` against ``AOD670`` from the subsetted satellite data using a comparative scatter plot\n"
   ]
  },
  {
   "cell_type": "code",
   "execution_count": null,
   "metadata": {
    "collapsed": false
   },
   "outputs": [],
   "source": [
    "aerosol_cci_sub.plot(how='comparativescatter')"
   ]
  },
  {
   "cell_type": "markdown",
   "metadata": {},
   "source": [
    "cis plot AOD550,AOD670:aerosol_cci_subset.nc --type comparativescatter"
   ]
  },
  {
   "cell_type": "markdown",
   "metadata": {
    "slideshow": {
     "slide_type": "subslide"
    }
   },
   "source": [
    "## Exercises"
   ]
  },
  {
   "cell_type": "markdown",
   "metadata": {
    "slideshow": {
     "slide_type": "fragment"
    }
   },
   "source": [
    "**1.** How does the correlation change if we only include those average number concentrations which averaged more than one point?"
   ]
  },
  {
   "cell_type": "code",
   "execution_count": null,
   "metadata": {
    "collapsed": false
   },
   "outputs": [],
   "source": [
    "print(aerosol_cci_collocated[2].data > 1)\n",
    "print(aerosol_cci_collocated[0][aerosol_cci_collocated[2].data > 1 ])"
   ]
  },
  {
   "cell_type": "markdown",
   "metadata": {
    "slideshow": {
     "slide_type": "fragment"
    }
   },
   "source": [
    "**2.** Consider the case of comparing our model AOD with the AerosolCCI.\n",
    "\n",
    "**a.** What strategies could you employ?\n",
    "    \n",
    "**b.** Perform an initial assesment of the model AOD field using the Aerosol CCI data for the few days we have data."
   ]
  }
 ],
 "metadata": {
  "anaconda-cloud": {},
  "celltoolbar": "Slideshow",
  "kernelspec": {
   "display_name": "Python [conda env:python_workshop]",
   "language": "python",
   "name": "conda-env-python_workshop-py"
  },
  "language_info": {
   "codemirror_mode": {
    "name": "ipython",
    "version": 3
   },
   "file_extension": ".py",
   "mimetype": "text/x-python",
   "name": "python",
   "nbconvert_exporter": "python",
   "pygments_lexer": "ipython3",
   "version": "3.5.2"
  }
 },
 "nbformat": 4,
 "nbformat_minor": 1
}
