{
 "cells": [
  {
   "cell_type": "markdown",
   "metadata": {},
   "source": [
    "## c006 - 01/03/2017 - MOYA - Chemistry outflow on the West Coast of Africa"
   ]
  },
  {
   "cell_type": "markdown",
   "metadata": {},
   "source": [
    "Flight c006 was part of the MOYA (Methane Observations and Yearly Assessments) campaign. On this sortie a transect was investigated by flying stacked runs over the Ocean on the West Coast of Africa. The flight track (see further down) shows that the aircraft spent most of the time between 13 degree and 12 degree North at the 16 degree meridian."
   ]
  },
  {
   "cell_type": "code",
   "execution_count": null,
   "metadata": {
    "collapsed": true
   },
   "outputs": [],
   "source": [
    "%matplotlib inline\n",
    "\n",
    "import cis\n",
    "import datetime\n",
    "import os\n",
    "\n",
    "ROOT_DATA_PATH = '/home/axel/Dropbox/cis_workshop/data/c006'\n",
    "\n",
    "os.chdir(ROOT_DATA_PATH)"
   ]
  },
  {
   "cell_type": "markdown",
   "metadata": {},
   "source": [
    "### Merging CAMS data files into a single NetCDF"
   ]
  },
  {
   "cell_type": "markdown",
   "metadata": {},
   "source": [
    "The data merging has already been done. The below code is left only for reference in case anybody wants to do it themself.\n",
    "\n",
    "iris can do the merge for us. The only pitfall is that iris refuses to concatenate datasets with differing history attributes. Therefore this attribute needs to be removed (popped) from every individual dataset before the concatenate function is called."
   ]
  },
  {
   "cell_type": "code",
   "execution_count": null,
   "metadata": {
    "collapsed": true
   },
   "outputs": [],
   "source": [
    "#import iris\n",
    "\n",
    "## read all the data in\n",
    "#cube_list = iris.load('z_cams_c_ecmf_20170301000000_prod_fc_pl*_aermr0*.nc')\n",
    "\n",
    "## pop/remove the history attribute, otherwise merging is not possible\n",
    "#for i in cube_list:\n",
    "#    i.attributes.pop('history')\n",
    "\n",
    "#ods = cube_list.concatenate()\n",
    "## Use the compression option; this can reduce the size of your netCDF massively\n",
    "#iris.save(ods, os.path.join(ROOT_DATA_PATH, 'moya_cams_c006.nc', zlib=True, packing='short'))"
   ]
  },
  {
   "cell_type": "markdown",
   "metadata": {},
   "source": [
    "### Model data"
   ]
  },
  {
   "cell_type": "markdown",
   "metadata": {},
   "source": [
    "The model data come from the Copernicus Atmospheric Monitoring Service (http://atmosphere.copernicus.eu/ftp-access-global-data). The available NetCDF covers the whole globe and at 25 pressure levels. The variables we use are the three different dust aerosols.\n",
    "\n",
    "* aermr04\tDust Aerosol (0.03 - 0.55 um) Mixing Ratio\n",
    "* aermr05\tDust Aerosol (0.55 - 0.9 um) Mixing Ratio\n",
    "* aermr06\tDust Aerosol (0.9 - 20 um) Mixing Ratio\n",
    "\n",
    "The current model products can be looked at online: http://atmosphere.copernicus.eu/catalogue#/"
   ]
  },
  {
   "cell_type": "code",
   "execution_count": null,
   "metadata": {},
   "outputs": [],
   "source": [
    "cams_c006 = cis.read_data_list('moya_cams_c006.nc',\n",
    "                               ['aermr04', 'aermr05', 'aermr06'])\n",
    "print(cams_c006)"
   ]
  },
  {
   "cell_type": "code",
   "execution_count": null,
   "metadata": {
    "collapsed": true
   },
   "outputs": [],
   "source": [
    "# Let's look at a curtain\n",
    "cams_curtain = cams_c006.subset(x=[16.5, 17.5],\n",
    "                                y=[11,14],\n",
    "                                z=[300, 1000])"
   ]
  },
  {
   "cell_type": "code",
   "execution_count": null,
   "metadata": {},
   "outputs": [],
   "source": [
    "cams_curtain = cams_curtain.collapsed('time', how='mean')#\n",
    "print(cams_curtain)"
   ]
  },
  {
   "cell_type": "markdown",
   "metadata": {},
   "source": [
    "We like to see the relation of small to middle sized aerosol."
   ]
  },
  {
   "cell_type": "code",
   "execution_count": null,
   "metadata": {},
   "outputs": [],
   "source": [
    "# create a new GriddedDataList\n",
    "grid_list = cis.data_io.gridded_data.GriddedDataList()\n",
    "grid_list.append(cams_curtain[0])\n",
    "grid_list.append(cams_curtain[1])\n",
    "ax = grid_list.plot(how='comparativescatter')\n",
    "ax.grid()"
   ]
  },
  {
   "cell_type": "code",
   "execution_count": null,
   "metadata": {
    "collapsed": true
   },
   "outputs": [],
   "source": [
    "cams_curtain = cams_curtain.collapsed('longitude', how='mean')"
   ]
  },
  {
   "cell_type": "code",
   "execution_count": null,
   "metadata": {},
   "outputs": [],
   "source": [
    "# TODO: That does not work :(\n",
    "cams_curtain[0].plot(xaxis='latitude')"
   ]
  },
  {
   "cell_type": "code",
   "execution_count": null,
   "metadata": {},
   "outputs": [],
   "source": [
    "# TODO: Why can I not plot like this\n",
    "cams_curtain.plot()"
   ]
  },
  {
   "cell_type": "code",
   "execution_count": null,
   "metadata": {
    "collapsed": true
   },
   "outputs": [],
   "source": [
    "cams_curtain[0].data.shape"
   ]
  },
  {
   "cell_type": "code",
   "execution_count": null,
   "metadata": {
    "collapsed": true
   },
   "outputs": [],
   "source": [
    "p = cams_curtain[0]"
   ]
  },
  {
   "cell_type": "code",
   "execution_count": null,
   "metadata": {
    "collapsed": true
   },
   "outputs": [],
   "source": [
    "# TODO: I can plot a curtain like this, but I would like CIS to do it for me\n",
    "imshow(p.data)"
   ]
  },
  {
   "cell_type": "markdown",
   "metadata": {},
   "source": [
    "### Aircraft data"
   ]
  },
  {
   "cell_type": "markdown",
   "metadata": {},
   "source": [
    "Read in the total scatter and back scatter data from the Nephelometer."
   ]
  },
  {
   "cell_type": "code",
   "execution_count": null,
   "metadata": {},
   "outputs": [],
   "source": [
    "ara = cis.read_data_list('core_faam_20170301_v004_r0_c006_1hz_edited.nc', \\\n",
    "                         ['TSC_BLUU', 'TSC_GRNU', 'TSC_REDU', 'BSC_BLUU', 'BSC_GRNU', 'BSC_REDU', 'PS_RVSM'],\n",
    "                         product='NCAR_NetCDF_RAF')"
   ]
  },
  {
   "cell_type": "code",
   "execution_count": null,
   "metadata": {},
   "outputs": [],
   "source": [
    "print(ara)"
   ]
  },
  {
   "cell_type": "code",
   "execution_count": null,
   "metadata": {},
   "outputs": [],
   "source": [
    "# TODO: Make the variables share one colorbar\n",
    "ax = ara.plot()\n",
    "ax.grid(True)"
   ]
  },
  {
   "cell_type": "code",
   "execution_count": null,
   "metadata": {
    "collapsed": true
   },
   "outputs": [],
   "source": [
    "# TODO: Would be nice to compare a model profile with a profile from the FAAM aircraft."
   ]
  },
  {
   "cell_type": "markdown",
   "metadata": {},
   "source": [
    "Add pressure as a new coordinate to the CIS aircraft dataset."
   ]
  },
  {
   "cell_type": "code",
   "execution_count": null,
   "metadata": {
    "collapsed": true
   },
   "outputs": [],
   "source": [
    "from cis.data_io.Coord import Coord\n",
    "from cis.data_io.ungridded_data import Metadata, UngriddedData, UngriddedDataList\n",
    "\n",
    "# Read in air pressure as a new variable\n",
    "pressure_data = cis.read_data('core_faam_20170301_v004_r0_c006_1hz_edited.nc', 'PS_RVSM')\n",
    "\n",
    "pres = Coord(ara[6].data.ravel().data, Metadata('air_pressure', units='millibars'), 'p')"
   ]
  },
  {
   "cell_type": "code",
   "execution_count": null,
   "metadata": {
    "collapsed": true
   },
   "outputs": [],
   "source": [
    "ara2 = cis.data_io.ungridded_data.UngriddedDataList()\n",
    "\n",
    "coord_list = [ara.coord('latitude'),\n",
    "              ara.coord('longitude'),\n",
    "              pres,\n",
    "              ara.coord('altitude'),\n",
    "              ara.coord('time')]\n",
    "\n",
    "for i in ara:\n",
    "    ara2.append(UngriddedData(i.data.ravel(),\n",
    "                              i.metadata,\n",
    "                              coord_list))"
   ]
  },
  {
   "cell_type": "code",
   "execution_count": null,
   "metadata": {},
   "outputs": [],
   "source": [
    "print(ara2)"
   ]
  },
  {
   "cell_type": "code",
   "execution_count": null,
   "metadata": {},
   "outputs": [],
   "source": [
    "print(cams_c006[0])"
   ]
  },
  {
   "cell_type": "code",
   "execution_count": null,
   "metadata": {},
   "outputs": [],
   "source": [
    "ara.coord('latitude')"
   ]
  }
 ],
 "metadata": {
  "kernelspec": {
   "display_name": "IPython (Python 2)",
   "language": "python",
   "name": "python2"
  },
  "language_info": {
   "codemirror_mode": {
    "name": "ipython",
    "version": 2
   },
   "file_extension": ".py",
   "mimetype": "text/x-python",
   "name": "python",
   "nbconvert_exporter": "python",
   "pygments_lexer": "ipython2",
   "version": "2.7.12"
  }
 },
 "nbformat": 4,
 "nbformat_minor": 2
}
