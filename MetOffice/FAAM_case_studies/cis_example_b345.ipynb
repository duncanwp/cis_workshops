{
 "cells": [
  {
   "cell_type": "markdown",
   "metadata": {},
   "source": [
    "## b345 - 16/02/2008 - CLPX-2 -MARSS"
   ]
  },
  {
   "cell_type": "markdown",
   "metadata": {},
   "source": [
    "Here we are comparing MARSS (Microwave Airborne Radiometer Scanning System) emissivity measurements from the FAAM aircraft with some radar data taking from a satellite. The data were provided by Chawn Harlow. The original MARSS data are in csv format. Although it is possible to write your own plugin in many cases it might be easier to convert the data into a netCDF, which cis natively supports."
   ]
  },
  {
   "cell_type": "code",
   "execution_count": null,
   "metadata": {
    "collapsed": true
   },
   "outputs": [],
   "source": [
    "%matplotlib inline\n",
    "\n",
    "import datetime\n",
    "import os\n",
    "\n",
    "ROOT_DATA_PATH = '/Users/watson-parris/Desktop/cis_workshop/data/b345'\n",
    "\n",
    "# date of flight\n",
    "year, month, day = 2008, 2, 16"
   ]
  },
  {
   "cell_type": "markdown",
   "metadata": {},
   "source": [
    "### Converting the MARSS data from csv to netCDF"
   ]
  },
  {
   "cell_type": "markdown",
   "metadata": {},
   "source": [
    "The MARSS data come as a text file in csv format. We use pandas to read in the data into a DataFrame first."
   ]
  },
  {
   "cell_type": "code",
   "execution_count": null,
   "metadata": {
    "collapsed": true
   },
   "outputs": [],
   "source": [
    "import pandas as pd\n",
    "\n",
    "# Date parser, which will give use a datetime object for every data line in the MARSS data\n",
    "# the first column in the csv file is seconds past midnight\n",
    "dateparser = lambda x: datetime.datetime(year, month, day)+datetime.timedelta(seconds=int(float(x)))\n",
    "\n",
    "# column definition for the txt file\n",
    "colnames=['time', 'lat', 'lon', 'emis89', 'emis157', 'emis183']\n",
    "ifile = os.path.join(ROOT_DATA_PATH, 'marss_emiss_b345.txt')\n",
    "df = pd.read_csv(ifile, names=colnames, skiprows=1, parse_dates=[0,], date_parser=dateparser)\n",
    "df.set_index('time', inplace=True)"
   ]
  },
  {
   "cell_type": "markdown",
   "metadata": {},
   "source": [
    "Now the data are all in a dataframe. In a next step we create a new CIS dataset from scratch."
   ]
  },
  {
   "cell_type": "code",
   "execution_count": null,
   "metadata": {
    "collapsed": false
   },
   "outputs": [],
   "source": [
    "import cis\n",
    "from cis.data_io.ungridded_data import UngriddedData, UngriddedDataList, Metadata\n",
    "from cis.data_io.Coord import Coord\n",
    "from cis.time_util import convert_datetime_to_std_time, cis_standard_time_unit\n",
    "\n",
    "OVERWRITE_NETCDF = True\n",
    "\n",
    "lon = Coord(df.lon.values, Metadata('longitude', units='degree_east'), 'x')\n",
    "lat = Coord(df.lat.values, Metadata('latitude', units='degree_north'), 'y')\n",
    "time = Coord(convert_datetime_to_std_time(df.index.to_pydatetime()),\n",
    "             Metadata('time', units=cis_standard_time_unit))\n",
    "\n",
    "emis89 = UngriddedData(df.emis89.values, \n",
    "                       Metadata('emis89', long_name='Emissivity at 89Ghz', units=1), \n",
    "                       [lat, lon, time])\n",
    "emis157 = UngriddedData(df.emis157.values, \n",
    "                        Metadata('emis157', long_name='Emissivity at 157Ghz', units=1), \n",
    "                        [lat, lon, time])\n",
    "emis183 = UngriddedData(df.emis183.values, \n",
    "                        Metadata('emis183', long_name='Emissivity at 183Ghz', units=1), \n",
    "                        [lat, lon, time])\n",
    "\n",
    "b345 = UngriddedDataList([emis89, emis157, emis183])"
   ]
  },
  {
   "cell_type": "markdown",
   "metadata": {},
   "source": [
    "Now that we have CIS obects we can easily save to NetCDF using the `.save_data()` method. This is almost exactly the code we would need for a plugin if we were reading lots of these files."
   ]
  },
  {
   "cell_type": "code",
   "execution_count": null,
   "metadata": {
    "collapsed": false
   },
   "outputs": [],
   "source": [
    "# Map plot\n",
    "b345[0].plot(how='scatter2d')"
   ]
  },
  {
   "cell_type": "code",
   "execution_count": null,
   "metadata": {
    "collapsed": false
   },
   "outputs": [],
   "source": [
    "# Time series plot\n",
    "b345.plot(xaxis='time')"
   ]
  },
  {
   "cell_type": "markdown",
   "metadata": {},
   "source": [
    "### Converting the Satellite data"
   ]
  },
  {
   "cell_type": "markdown",
   "metadata": {},
   "source": [
    "Now we deal with the satellite data. Once more we convert the data into a cis suitable format. The original data are in geotiff format, which is converted in a two step process into a netCDF using gdal tools. \n",
    "\n",
    "The first step is to to warp the data into the EPSG:4326, projection which will give us longitude and latitude as dimensions (coordinates):"
   ]
  },
  {
   "cell_type": "code",
   "execution_count": null,
   "metadata": {
    "collapsed": true
   },
   "outputs": [],
   "source": [
    "# !gdalwarp -t_srs EPSG:4326 R164129269G3Q001_aoi_sigma_dB.tif R164129269G3Q001_aoi_sigma_dB.4326.tif"
   ]
  },
  {
   "cell_type": "markdown",
   "metadata": {},
   "source": [
    "In a second step we convert the dataset to netCDF:"
   ]
  },
  {
   "cell_type": "code",
   "execution_count": null,
   "metadata": {
    "collapsed": true
   },
   "outputs": [],
   "source": [
    " # !gdal_translate -of netCDF R164129269G3Q001_aoi_sigma_dB.4326.tif R164129269G3Q001_aoi_sigma_dB.4326.nc"
   ]
  },
  {
   "cell_type": "markdown",
   "metadata": {},
   "source": [
    "Let's have a quick look what is in the file:"
   ]
  },
  {
   "cell_type": "code",
   "execution_count": null,
   "metadata": {
    "collapsed": true
   },
   "outputs": [],
   "source": [
    "# !ncdump -h R164129269G3Q001_aoi_sigma_dB.4326.nc"
   ]
  },
  {
   "cell_type": "markdown",
   "metadata": {},
   "source": [
    "Rename the variable to aoi:"
   ]
  },
  {
   "cell_type": "code",
   "execution_count": null,
   "metadata": {
    "collapsed": true
   },
   "outputs": [],
   "source": [
    "# !ncrename -v Band1,aoi R164129269G3Q001_aoi_sigma_dB.4326.nc"
   ]
  },
  {
   "cell_type": "markdown",
   "metadata": {},
   "source": [
    "### Analysis"
   ]
  },
  {
   "cell_type": "markdown",
   "metadata": {},
   "source": [
    "Read in the converted radar data"
   ]
  },
  {
   "cell_type": "code",
   "execution_count": null,
   "metadata": {
    "collapsed": true
   },
   "outputs": [],
   "source": [
    "aoi_ifile = os.path.join(ROOT_DATA_PATH, 'R164129269G3Q001_aoi_sigma_dB.4326.nc')\n",
    "aoi = cis.read_data(aoi_ifile, 'aoi')"
   ]
  },
  {
   "cell_type": "markdown",
   "metadata": {},
   "source": [
    "Plot the satellite data as a heatmap, which is the default type for a gridded dataset."
   ]
  },
  {
   "cell_type": "code",
   "execution_count": null,
   "metadata": {
    "collapsed": false
   },
   "outputs": [],
   "source": [
    "ax = aoi.plot(cmap='Greys')\n",
    "# plot the MARSS data on top\n",
    "b345[0].plot(ax=ax)"
   ]
  },
  {
   "cell_type": "code",
   "execution_count": null,
   "metadata": {
    "collapsed": false
   },
   "outputs": [],
   "source": [
    "# Will linearly interpolate the radar data onto the aircraft track in all dimensions\n",
    "aoi_col, = aoi.collocated_onto(b345[0])"
   ]
  },
  {
   "cell_type": "code",
   "execution_count": null,
   "metadata": {
    "collapsed": false
   },
   "outputs": [],
   "source": [
    "import matplotlib.pyplot as plt\n",
    "plt.figure()\n",
    "ax = plt.subplot()\n",
    "for emis in b345:\n",
    "    ax.plot(emis.data, aoi_col.data, '.', label=emis.name())\n",
    "\n",
    "ax.legend()\n",
    "ax.set_xlabel('MARSS')\n",
    "ax.set_ylabel('aoi (db)')"
   ]
  },
  {
   "cell_type": "code",
   "execution_count": null,
   "metadata": {
    "collapsed": true
   },
   "outputs": [],
   "source": []
  }
 ],
 "metadata": {
  "anaconda-cloud": {},
  "kernelspec": {
   "display_name": "Python [conda env:cis_env3]",
   "language": "python",
   "name": "conda-env-cis_env3-py"
  },
  "language_info": {
   "codemirror_mode": {
    "name": "ipython",
    "version": 3
   },
   "file_extension": ".py",
   "mimetype": "text/x-python",
   "name": "python",
   "nbconvert_exporter": "python",
   "pygments_lexer": "ipython3",
   "version": "3.5.2"
  }
 },
 "nbformat": 4,
 "nbformat_minor": 2
}
