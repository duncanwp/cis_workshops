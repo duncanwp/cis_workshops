{
 "cells": [
  {
   "cell_type": "markdown",
   "metadata": {},
   "source": [
    "## b968 - 30/06/2016 - MONSOON - LST survey"
   ]
  },
  {
   "cell_type": "markdown",
   "metadata": {},
   "source": [
    "For this example we compare the brightness temperature measurements from the Heimann instrument on the aircraft with land surface temperature data from the MODIS instrument. "
   ]
  },
  {
   "cell_type": "code",
   "execution_count": null,
   "metadata": {
    "collapsed": true
   },
   "outputs": [],
   "source": [
    "%matplotlib inline\n",
    "\n",
    "import matplotlib.pyplot as plt\n",
    "import datetime\n",
    "import os\n",
    "\n",
    "ROOT_DATA_PATH = '/Users/watson-parris/Desktop/cis_workshop/data/b968'\n",
    "\n",
    "os.chdir(ROOT_DATA_PATH)"
   ]
  },
  {
   "cell_type": "markdown",
   "metadata": {},
   "source": [
    "### Converting the MODIS hdf into netCDF"
   ]
  },
  {
   "cell_type": "markdown",
   "metadata": {},
   "source": [
    "The original data were downloaded in hdf format. gdal brings als the tools to convert it into a netCDF, that cis can work with. The conversion has been done and the below cell is only kept as a reference."
   ]
  },
  {
   "cell_type": "code",
   "execution_count": null,
   "metadata": {
    "collapsed": true
   },
   "outputs": [],
   "source": [
    "# Show information about the hdf content\n",
    "# gdalinfo MOD11A1.A2016182.h24v06.006.2016241041630.hdf\n",
    "#\n",
    "# extract subset from hdf5 file\n",
    "# We got the exact name of the subset from the gdalinfo command above\n",
    "# see: http://osgeo-org.1560.x6.nabble.com/Extract-subdataset-from-netCDF-in-a-given-directory-td5161167.html\n",
    "# gdal_translate -of netCDF HDF4_EOS:EOS_GRID:\"MOD11A1.A2016182.h24v06.006.2016241041630.hdf\":MODIS_Grid_Daily_1km_LST:LST_Day_1km MOD11A1.A2016182.h24v06.006.2016241041630.lst.nc\n",
    "#\n",
    "# Convert it to WGS84 reference system with longitude and latitude\n",
    "# gdalwarp -of netCDF -t_srs EPSG:4326 MOD11A1.A2016182.h24v06.006.2016241041630.lst.nc MOD11A1.A2016182.h24v06.006.2016241041630.4326.lst.nc\n",
    "#\n",
    "# have a look what is in the file\n",
    "# ncdump -h MOD11A1.A2016182.h24v06.006.2016241041630.4326.lst.nc\n",
    "#\n",
    "# Rename the \"Band1\" variable to \"lst\"\n",
    "# ncrename -v Band1,lst MOD11A1.A2016182.h24v06.006.2016241041630.4326.lst.nc"
   ]
  },
  {
   "cell_type": "code",
   "execution_count": null,
   "metadata": {},
   "outputs": [],
   "source": [
    "import cis\n",
    "modis = cis.read_data(os.path.join(ROOT_DATA_PATH, 'MOD11A1.A2016182.h24v06.006.2016241041630.4326.lst.nc'), 'lst')\n",
    "\n",
    "# scaling of the land surface temperature data\n",
    "# https://gis.stackexchange.com/questions/72524/how-do-i-convert-the-lst-values-on-the-modis-lst-image-to-degree-celsius\n",
    "modis.data *= 0.02\n",
    "\n",
    "ax = modis.plot(label='MODIS lst (K)')\n",
    "# add the bluemarble background\n",
    "ax.bluemarble()"
   ]
  },
  {
   "cell_type": "markdown",
   "metadata": {},
   "source": [
    "### Reading in brightness temperature from aircraft"
   ]
  },
  {
   "cell_type": "code",
   "execution_count": null,
   "metadata": {},
   "outputs": [],
   "source": [
    "# reading the brightness temperature from the Heimann instrument on the FAAM aircraft\n",
    "ara_bt = cis.read_data(os.path.join(ROOT_DATA_PATH, 'core_faam_20160630_v004_r0_b968_1hz_editted.nc'), 'BTHEIM_U', product='NCAR_NetCDF_RAF')\n",
    "ara_bt.plot()"
   ]
  },
  {
   "cell_type": "code",
   "execution_count": null,
   "metadata": {},
   "outputs": [],
   "source": [
    "# reading in the gin altitude\n",
    "ara_alt = cis.read_data(os.path.join(ROOT_DATA_PATH, 'core_faam_20160630_v004_r0_b968_1hz_editted.nc'), 'ALT_GIN', product='NCAR_NetCDF_RAF')\n",
    "\n",
    "ara_alt.plot(xaxis='time')"
   ]
  },
  {
   "cell_type": "markdown",
   "metadata": {},
   "source": [
    "For the further analysis we are interested in the low level leg which starts at about 05:25Z and ends at 07:00Z. Clipping the brightness data using the subset method."
   ]
  },
  {
   "cell_type": "code",
   "execution_count": null,
   "metadata": {},
   "outputs": [],
   "source": [
    "# Defining start and end time\n",
    "stime = datetime.datetime.strptime('2016-06-30T05:25', '%Y-%m-%dT%H:%M')\n",
    "etime = datetime.datetime.strptime('2016-06-30T07:00', '%Y-%m-%dT%H:%M')\n",
    "\n",
    "# create a subset using the start and end time\n",
    "ara_bt = ara_bt.subset(t=[stime, etime])\n",
    "ara_bt.plot()"
   ]
  },
  {
   "cell_type": "code",
   "execution_count": null,
   "metadata": {},
   "outputs": [],
   "source": [
    "import cartopy.crs as ccrs\n",
    "fig, ax = plt.subplots(figsize=(12, 8), subplot_kw=dict(projection=ccrs.PlateCarree()))\n",
    "\n",
    "modis.plot(ax=ax, label='MODIS lst (K)', cmap='Reds', vmin=300, vmax=330, cbarorient='vertical')\n",
    "ara_bt.plot(ax=ax, cmap='Greens', vmin=300, vmax=330, cbarorient='vertical')\n",
    "ax.bluemarble()"
   ]
  },
  {
   "cell_type": "markdown",
   "metadata": {},
   "source": [
    "We can create nice overlays to get a feel for the location and sampling, but if we want to pergorm a quantitive comparison we'll need to collocate the data"
   ]
  },
  {
   "cell_type": "code",
   "execution_count": null,
   "metadata": {},
   "outputs": [],
   "source": [
    "# collocate brightness temperature with MODIS. Note this time we're aggregating the aircraft data\n",
    "ara_bt_col = ara_bt.collocated_onto(modis, kernel='mean')\n",
    "print(ara_bt_col[0])"
   ]
  },
  {
   "cell_type": "code",
   "execution_count": null,
   "metadata": {},
   "outputs": [],
   "source": [
    "# copy the mask over from the brightness temperature - because of the way we did the collocation\n",
    "modis.data.mask |= ara_bt_col[0].data.mask\n",
    "\n",
    "# aggregate over the latitude dimensions\n",
    "modis2 = modis.collapsed('latitude', how='mean')\n",
    "ara_bt_col_meridional = ara_bt_col.collapsed('latitude', how='mean')\n",
    "\n",
    "# plot MODIS and FAAM data against longitude for comparison\n",
    "ax = modis2.plot(label='MODIS')\n",
    "ara_bt_col_meridional.plot(ax=ax, label='FAAM')\n",
    "\n",
    "ax.grid(True)"
   ]
  },
  {
   "cell_type": "code",
   "execution_count": null,
   "metadata": {
    "collapsed": true
   },
   "outputs": [],
   "source": [
    "# Append the modis data onto our collocated data so we can plot them together easily\n",
    "ara_bt_col.append(modis)"
   ]
  },
  {
   "cell_type": "code",
   "execution_count": null,
   "metadata": {},
   "outputs": [],
   "source": [
    "ara_bt_col.plot(how='histogram2d')"
   ]
  },
  {
   "cell_type": "code",
   "execution_count": null,
   "metadata": {
    "collapsed": true
   },
   "outputs": [],
   "source": []
  }
 ],
 "metadata": {
  "kernelspec": {
   "display_name": "IPython (Python 2)",
   "language": "python",
   "name": "python2"
  },
  "language_info": {
   "codemirror_mode": {
    "name": "ipython",
    "version": 2
   },
   "file_extension": ".py",
   "mimetype": "text/x-python",
   "name": "python",
   "nbconvert_exporter": "python",
   "pygments_lexer": "ipython2",
   "version": "2.7.12"
  }
 },
 "nbformat": 4,
 "nbformat_minor": 2
}
