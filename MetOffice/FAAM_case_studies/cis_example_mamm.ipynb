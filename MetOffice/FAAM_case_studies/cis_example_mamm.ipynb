{
 "cells": [
  {
   "cell_type": "markdown",
   "metadata": {},
   "source": [
    "## MAMM - 2012 to 2014 - Analysing multiple flights covering several years"
   ]
  },
  {
   "cell_type": "markdown",
   "metadata": {},
   "source": [
    "For the MAMM campaign (Methane in the Arctic: Measurements and Modelling) the FAAM aircraft went to Kiruna, Sweden several times to measure methane concentrations over the wetlands in Sweden and Finland."
   ]
  },
  {
   "cell_type": "code",
   "execution_count": null,
   "metadata": {},
   "outputs": [],
   "source": [
    "%matplotlib inline\n",
    "\n",
    "import cis\n",
    "import datetime\n",
    "import os\n",
    "\n",
    "ROOT_DATA_PATH = '/Users/watson-parris/Desktop/cis_workshop/data/mamm'\n",
    "ROOT_DATA_PATH = '/home/axel/Dropbox/cis_workshop/data/mamm'\n",
    "os.chdir(ROOT_DATA_PATH)"
   ]
  },
  {
   "cell_type": "markdown",
   "metadata": {},
   "source": [
    "### Reading in modified FAAM core data"
   ]
  },
  {
   "cell_type": "markdown",
   "metadata": {},
   "source": [
    "Reading in **all** data files. Those files have been created previously by merging the FAAM core netCDF with the FGGA (Fast Greenhouse Gashouse Analyser) instrument nasa-AMES data. By default the core dataset does not contain either the CO2 or CH4 data."
   ]
  },
  {
   "cell_type": "code",
   "execution_count": null,
   "metadata": {},
   "outputs": [],
   "source": [
    "methane = cis.read_data(ROOT_DATA_PATH+'/*/core_faam*.nc', 'CH4')"
   ]
  },
  {
   "cell_type": "markdown",
   "metadata": {},
   "source": [
    "Plot time series of methane."
   ]
  },
  {
   "cell_type": "code",
   "execution_count": null,
   "metadata": {},
   "outputs": [],
   "source": [
    "methane.plot(xaxis='time')"
   ]
  },
  {
   "cell_type": "markdown",
   "metadata": {},
   "source": [
    "### Analysis"
   ]
  },
  {
   "cell_type": "markdown",
   "metadata": {},
   "source": [
    "Subsetting for the three years 2012, 2013, and 2014."
   ]
  },
  {
   "cell_type": "code",
   "execution_count": null,
   "metadata": {
    "collapsed": true
   },
   "outputs": [],
   "source": [
    "from cis.time_util import PartialDateTime\n",
    "data = {}\n",
    "data['2012'] = methane.subset(t=PartialDateTime(2012))\n",
    "data['2013'] = methane.subset(t=PartialDateTime(2013))\n",
    "data['2014'] = methane.subset(t=PartialDateTime(2014))"
   ]
  },
  {
   "cell_type": "code",
   "execution_count": null,
   "metadata": {},
   "outputs": [],
   "source": [
    "data['2012'].plot()"
   ]
  },
  {
   "cell_type": "markdown",
   "metadata": {},
   "source": [
    "Aggregate all data for each year, where every cell is 0.5x0.5 degrees and look only data points for the lowest 1000m."
   ]
  },
  {
   "cell_type": "code",
   "execution_count": null,
   "metadata": {},
   "outputs": [],
   "source": [
    "for year in ['2012', '2013', '2014']:\n",
    "    data[year+'_agg'] = data[year].aggregate(x=[10, 40, 0.5],\n",
    "                                             y=[65, 85, 0.5],\n",
    "                                             z=[0, 1000, 1000],\n",
    "                                             how='mean')"
   ]
  },
  {
   "cell_type": "code",
   "execution_count": null,
   "metadata": {},
   "outputs": [],
   "source": [
    "data['2012_agg'].plot()\n",
    "data['2013_agg'].plot()\n",
    "data['2014_agg'].plot()"
   ]
  }
 ],
 "metadata": {
  "kernelspec": {
   "display_name": "IPython (Python 2)",
   "language": "python",
   "name": "python2"
  },
  "language_info": {
   "codemirror_mode": {
    "name": "ipython",
    "version": 2
   },
   "file_extension": ".py",
   "mimetype": "text/x-python",
   "name": "python",
   "nbconvert_exporter": "python",
   "pygments_lexer": "ipython2",
   "version": "2.7.12"
  }
 },
 "nbformat": 4,
 "nbformat_minor": 2
}
